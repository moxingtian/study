{
 "cells": [
  {
   "cell_type": "markdown",
   "metadata": {},
   "source": [
    "# 个人统计"
   ]
  },
  {
   "cell_type": "markdown",
   "metadata": {},
   "source": [
    "## 两对比实验"
   ]
  },
  {
   "cell_type": "code",
   "execution_count": 6,
   "metadata": {},
   "outputs": [
    {
     "data": {
      "text/html": [
       "<div>\n",
       "<style scoped>\n",
       "    .dataframe tbody tr th:only-of-type {\n",
       "        vertical-align: middle;\n",
       "    }\n",
       "\n",
       "    .dataframe tbody tr th {\n",
       "        vertical-align: top;\n",
       "    }\n",
       "\n",
       "    .dataframe thead th {\n",
       "        text-align: right;\n",
       "    }\n",
       "</style>\n",
       "<table border=\"1\" class=\"dataframe\">\n",
       "  <thead>\n",
       "    <tr style=\"text-align: right;\">\n",
       "      <th></th>\n",
       "      <th>experience_id</th>\n",
       "      <th>experience_content</th>\n",
       "      <th>color_gradient</th>\n",
       "      <th>experience_chromatism</th>\n",
       "      <th>correct_options</th>\n",
       "      <th>experience_options</th>\n",
       "      <th>experience_result</th>\n",
       "    </tr>\n",
       "  </thead>\n",
       "  <tbody>\n",
       "    <tr>\n",
       "      <th>0</th>\n",
       "      <td>1</td>\n",
       "      <td>cold</td>\n",
       "      <td>2</td>\n",
       "      <td>-6</td>\n",
       "      <td>right</td>\n",
       "      <td>right</td>\n",
       "      <td>True</td>\n",
       "    </tr>\n",
       "    <tr>\n",
       "      <th>1</th>\n",
       "      <td>2</td>\n",
       "      <td>cold</td>\n",
       "      <td>2</td>\n",
       "      <td>4</td>\n",
       "      <td>left</td>\n",
       "      <td>left</td>\n",
       "      <td>True</td>\n",
       "    </tr>\n",
       "    <tr>\n",
       "      <th>2</th>\n",
       "      <td>3</td>\n",
       "      <td>cold</td>\n",
       "      <td>2</td>\n",
       "      <td>2</td>\n",
       "      <td>left</td>\n",
       "      <td>left</td>\n",
       "      <td>True</td>\n",
       "    </tr>\n",
       "    <tr>\n",
       "      <th>3</th>\n",
       "      <td>4</td>\n",
       "      <td>cold</td>\n",
       "      <td>2</td>\n",
       "      <td>-8</td>\n",
       "      <td>right</td>\n",
       "      <td>right</td>\n",
       "      <td>True</td>\n",
       "    </tr>\n",
       "    <tr>\n",
       "      <th>4</th>\n",
       "      <td>5</td>\n",
       "      <td>warm</td>\n",
       "      <td>2</td>\n",
       "      <td>-8</td>\n",
       "      <td>right</td>\n",
       "      <td>right</td>\n",
       "      <td>True</td>\n",
       "    </tr>\n",
       "    <tr>\n",
       "      <th>5</th>\n",
       "      <td>6</td>\n",
       "      <td>warm</td>\n",
       "      <td>2</td>\n",
       "      <td>-4</td>\n",
       "      <td>right</td>\n",
       "      <td>right</td>\n",
       "      <td>True</td>\n",
       "    </tr>\n",
       "    <tr>\n",
       "      <th>6</th>\n",
       "      <td>7</td>\n",
       "      <td>warm</td>\n",
       "      <td>2</td>\n",
       "      <td>6</td>\n",
       "      <td>left</td>\n",
       "      <td>left</td>\n",
       "      <td>True</td>\n",
       "    </tr>\n",
       "    <tr>\n",
       "      <th>7</th>\n",
       "      <td>8</td>\n",
       "      <td>warm</td>\n",
       "      <td>2</td>\n",
       "      <td>2</td>\n",
       "      <td>left</td>\n",
       "      <td>left</td>\n",
       "      <td>True</td>\n",
       "    </tr>\n",
       "  </tbody>\n",
       "</table>\n",
       "</div>"
      ],
      "text/plain": [
       "   experience_id experience_content  color_gradient  experience_chromatism  \\\n",
       "0              1               cold               2                     -6   \n",
       "1              2               cold               2                      4   \n",
       "2              3               cold               2                      2   \n",
       "3              4               cold               2                     -8   \n",
       "4              5               warm               2                     -8   \n",
       "5              6               warm               2                     -4   \n",
       "6              7               warm               2                      6   \n",
       "7              8               warm               2                      2   \n",
       "\n",
       "  correct_options experience_options  experience_result  \n",
       "0           right              right               True  \n",
       "1            left               left               True  \n",
       "2            left               left               True  \n",
       "3           right              right               True  \n",
       "4           right              right               True  \n",
       "5           right              right               True  \n",
       "6            left               left               True  \n",
       "7            left               left               True  "
      ]
     },
     "execution_count": 6,
     "metadata": {},
     "output_type": "execute_result"
    }
   ],
   "source": [
    "statistics_personal_warm_cold = pd.DataFrame()\n",
    "statistics_personal_warm_cold['experience_id']=[i for i in range(1,9)]\n",
    "# 实验类别\n",
    "statistics_personal_warm_cold['experience_content'] = [\n",
    "    'cold','cold','cold','cold',\n",
    "    'warm','warm','warm','warm',\n",
    "    # 'rank','rank','rank',\n",
    "    # 'mix','mix','mix'\n",
    "]\n",
    "# 实验色差梯度\n",
    "statistics_personal_warm_cold['color_gradient'] = [\n",
    "    2,2,2,2,2,2,2,2,\n",
    "    # 5,3,1,5,3,1\n",
    "]\n",
    "# 实验色差\n",
    "statistics_personal_warm_cold['experience_chromatism'] = statistics_personal_warm_cold.color_gradient*[int(i[1])-int(i[-2]) for i in df_1.target[:8]]\n",
    "# 实验正确选项\n",
    "correct_options_list = []\n",
    "for i in statistics_personal_warm_cold['experience_chromatism']:\n",
    "    if i<0:\n",
    "        correct_options_list.append('right')\n",
    "    else:\n",
    "        correct_options_list.append('left')\n",
    "statistics_personal_warm_cold['correct_options'] = correct_options_list\n",
    "# 实际选择：\n",
    "statistics_personal_warm_cold['experience_options'] = df_1.experience[:8]\n",
    "# 正确与否\n",
    "statistics_personal_warm_cold['experience_result'] = [\n",
    "    statistics_personal_warm_cold['experience_options'][i]==statistics_personal_warm_cold['correct_options'][i]\n",
    "    for i in range(statistics_personal_warm_cold['correct_options'].shape[0])\n",
    "]\n",
    "statistics_personal_warm_cold "
   ]
  },
  {
   "cell_type": "code",
   "execution_count": null,
   "metadata": {},
   "outputs": [],
   "source": []
  },
  {
   "cell_type": "markdown",
   "metadata": {},
   "source": [
    "## 多排序实验"
   ]
  },
  {
   "cell_type": "code",
   "execution_count": 7,
   "metadata": {},
   "outputs": [
    {
     "data": {
      "text/html": [
       "<div>\n",
       "<style scoped>\n",
       "    .dataframe tbody tr th:only-of-type {\n",
       "        vertical-align: middle;\n",
       "    }\n",
       "\n",
       "    .dataframe tbody tr th {\n",
       "        vertical-align: top;\n",
       "    }\n",
       "\n",
       "    .dataframe thead th {\n",
       "        text-align: right;\n",
       "    }\n",
       "</style>\n",
       "<table border=\"1\" class=\"dataframe\">\n",
       "  <thead>\n",
       "    <tr style=\"text-align: right;\">\n",
       "      <th></th>\n",
       "      <th>experience_id</th>\n",
       "      <th>experience_content</th>\n",
       "      <th>color_gradient</th>\n",
       "      <th>correct_options</th>\n",
       "      <th>experience_options</th>\n",
       "      <th>experience_result</th>\n",
       "    </tr>\n",
       "  </thead>\n",
       "  <tbody>\n",
       "    <tr>\n",
       "      <th>0</th>\n",
       "      <td>9</td>\n",
       "      <td>rank</td>\n",
       "      <td>5</td>\n",
       "      <td>31425</td>\n",
       "      <td>31425</td>\n",
       "      <td>True</td>\n",
       "    </tr>\n",
       "    <tr>\n",
       "      <th>1</th>\n",
       "      <td>10</td>\n",
       "      <td>rank</td>\n",
       "      <td>3</td>\n",
       "      <td>43215</td>\n",
       "      <td>43215</td>\n",
       "      <td>True</td>\n",
       "    </tr>\n",
       "    <tr>\n",
       "      <th>2</th>\n",
       "      <td>11</td>\n",
       "      <td>rank</td>\n",
       "      <td>1</td>\n",
       "      <td>14352</td>\n",
       "      <td>14253</td>\n",
       "      <td>False</td>\n",
       "    </tr>\n",
       "    <tr>\n",
       "      <th>3</th>\n",
       "      <td>12</td>\n",
       "      <td>mix</td>\n",
       "      <td>5</td>\n",
       "      <td>21534</td>\n",
       "      <td>21534</td>\n",
       "      <td>True</td>\n",
       "    </tr>\n",
       "    <tr>\n",
       "      <th>4</th>\n",
       "      <td>13</td>\n",
       "      <td>mix</td>\n",
       "      <td>3</td>\n",
       "      <td>23451</td>\n",
       "      <td>24351</td>\n",
       "      <td>False</td>\n",
       "    </tr>\n",
       "    <tr>\n",
       "      <th>5</th>\n",
       "      <td>14</td>\n",
       "      <td>mix</td>\n",
       "      <td>1</td>\n",
       "      <td>15342</td>\n",
       "      <td>25341</td>\n",
       "      <td>False</td>\n",
       "    </tr>\n",
       "  </tbody>\n",
       "</table>\n",
       "</div>"
      ],
      "text/plain": [
       "   experience_id experience_content  color_gradient correct_options  \\\n",
       "0              9               rank               5           31425   \n",
       "1             10               rank               3           43215   \n",
       "2             11               rank               1           14352   \n",
       "3             12                mix               5           21534   \n",
       "4             13                mix               3           23451   \n",
       "5             14                mix               1           15342   \n",
       "\n",
       "  experience_options  experience_result  \n",
       "0              31425               True  \n",
       "1              43215               True  \n",
       "2              14253              False  \n",
       "3              21534               True  \n",
       "4              24351              False  \n",
       "5              25341              False  "
      ]
     },
     "execution_count": 7,
     "metadata": {},
     "output_type": "execute_result"
    }
   ],
   "source": [
    "statistics_personal_rank = pd.DataFrame()\n",
    "statistics_personal_rank['experience_id']=[i for i in range(9,15)]\n",
    "# 实验类别\n",
    "statistics_personal_rank['experience_content'] = [\n",
    "    # 'cold','cold','cold','cold',\n",
    "    # 'warm','warm','warm','warm',\n",
    "    'rank','rank','rank',\n",
    "    'mix','mix','mix'\n",
    "]\n",
    "# 实验色差梯度\n",
    "statistics_personal_rank['color_gradient'] = [\n",
    "    # 2,2,2,2,2,2,2,2,\n",
    "    5,3,1,5,3,1\n",
    "]\n",
    "# 实验正确选项\n",
    "correct_options_list = []\n",
    "for i in df_1.target[8:]:\n",
    "    correct_options_list.append(i[1]+i[4]+i[7]+i[10]+i[13])\n",
    "statistics_personal_rank['correct_options'] = correct_options_list\n",
    "# 实际选择：\n",
    "experience_options_list = []\n",
    "for i in df_1.experience[8:]:\n",
    "    i = i.split(\"'\")\n",
    "    experience_options_list.append(i[1]+i[3]+i[5]+i[7]+i[9])\n",
    "statistics_personal_rank['experience_options'] = experience_options_list\n",
    "# 正确与否\n",
    "statistics_personal_rank['experience_result'] = [\n",
    "    statistics_personal_rank['experience_options'][i]==statistics_personal_rank['correct_options'][i]\n",
    "    for i in range(statistics_personal_rank['correct_options'].shape[0])\n",
    "]\n",
    "statistics_personal_rank \n"
   ]
  },
  {
   "cell_type": "markdown",
   "metadata": {},
   "source": [
    "## 个人统计"
   ]
  },
  {
   "cell_type": "code",
   "execution_count": 8,
   "metadata": {},
   "outputs": [
    {
     "data": {
      "text/plain": [
       "8"
      ]
     },
     "execution_count": 8,
     "metadata": {},
     "output_type": "execute_result"
    }
   ],
   "source": [
    "statistics_personal_warm_cold.experience_result.value_counts()[True]"
   ]
  },
  {
   "cell_type": "code",
   "execution_count": 9,
   "metadata": {},
   "outputs": [
    {
     "data": {
      "text/plain": [
       "count        6\n",
       "unique       2\n",
       "top       True\n",
       "freq         3\n",
       "Name: experience_result, dtype: object"
      ]
     },
     "execution_count": 9,
     "metadata": {},
     "output_type": "execute_result"
    }
   ],
   "source": [
    "statistics_personal_rank.experience_result.describe()\n"
   ]
  },
  {
   "cell_type": "code",
   "execution_count": 10,
   "metadata": {},
   "outputs": [
    {
     "data": {
      "text/plain": [
       "[1.0, 1.0, 0.6666666666666666, 0.3333333333333333]"
      ]
     },
     "execution_count": 10,
     "metadata": {},
     "output_type": "execute_result"
    }
   ],
   "source": [
    "[\n",
    "    statistics_personal_warm_cold.experience_result[:4].value_counts()[True]/4,\n",
    "    statistics_personal_warm_cold.experience_result[4:].value_counts()[True]/4,\n",
    "    statistics_personal_rank.experience_result[:3].value_counts()[True]/3,\n",
    "    statistics_personal_rank.experience_result[3:].value_counts()[True]/3\n",
    "    \n",
    "]"
   ]
  },
  {
   "cell_type": "code",
   "execution_count": 11,
   "metadata": {},
   "outputs": [
    {
     "data": {
      "text/html": [
       "<div>\n",
       "<style scoped>\n",
       "    .dataframe tbody tr th:only-of-type {\n",
       "        vertical-align: middle;\n",
       "    }\n",
       "\n",
       "    .dataframe tbody tr th {\n",
       "        vertical-align: top;\n",
       "    }\n",
       "\n",
       "    .dataframe thead th {\n",
       "        text-align: right;\n",
       "    }\n",
       "</style>\n",
       "<table border=\"1\" class=\"dataframe\">\n",
       "  <thead>\n",
       "    <tr style=\"text-align: right;\">\n",
       "      <th></th>\n",
       "      <th>experience_content</th>\n",
       "      <th>correct_rate</th>\n",
       "    </tr>\n",
       "  </thead>\n",
       "  <tbody>\n",
       "    <tr>\n",
       "      <th>0</th>\n",
       "      <td>cold</td>\n",
       "      <td>1.000000</td>\n",
       "    </tr>\n",
       "    <tr>\n",
       "      <th>1</th>\n",
       "      <td>warm</td>\n",
       "      <td>1.000000</td>\n",
       "    </tr>\n",
       "    <tr>\n",
       "      <th>2</th>\n",
       "      <td>rank</td>\n",
       "      <td>0.666667</td>\n",
       "    </tr>\n",
       "    <tr>\n",
       "      <th>3</th>\n",
       "      <td>mix</td>\n",
       "      <td>0.333333</td>\n",
       "    </tr>\n",
       "  </tbody>\n",
       "</table>\n",
       "</div>"
      ],
      "text/plain": [
       "  experience_content  correct_rate\n",
       "0               cold      1.000000\n",
       "1               warm      1.000000\n",
       "2               rank      0.666667\n",
       "3                mix      0.333333"
      ]
     },
     "execution_count": 11,
     "metadata": {},
     "output_type": "execute_result"
    }
   ],
   "source": [
    "statistics_personal_all = pd.DataFrame()\n",
    "# 实验类别\n",
    "statistics_personal_all['experience_content'] = [\n",
    "    'cold','warm','rank','mix'\n",
    "]\n",
    "# 个人准确率\n",
    "statistics_personal_all['correct_rate'] = [\n",
    "    statistics_personal_warm_cold.experience_result[:4].value_counts()[True]/4,\n",
    "    statistics_personal_warm_cold.experience_result[4:].value_counts()[True]/4,\n",
    "    statistics_personal_rank.experience_result[:3].value_counts()[True]/3,\n",
    "    statistics_personal_rank.experience_result[3:].value_counts()[True]/3\n",
    "    \n",
    "]\n",
    "statistics_personal_all"
   ]
  },
  {
   "cell_type": "markdown",
   "metadata": {},
   "source": [
    "## 个人统计函数"
   ]
  },
  {
   "cell_type": "code",
   "execution_count": 12,
   "metadata": {},
   "outputs": [],
   "source": [
    "def statistics_personal(df_path):\n",
    "    import pandas as pd\n",
    "    df_1 = pd.read_excel('1.xls',header=None).iloc[:,1:]\n",
    "    df_1.columns = ['target','experience']\n",
    "\n",
    "    # warm&cold\n",
    "    statistics_personal_warm_cold = pd.DataFrame()\n",
    "    statistics_personal_warm_cold['experience_id']=[i for i in range(1,9)]\n",
    "    # 实验类别\n",
    "    statistics_personal_warm_cold['experience_content'] = [\n",
    "        'cold','cold','cold','cold',\n",
    "        'warm','warm','warm','warm',\n",
    "        # 'rank','rank','rank',\n",
    "        # 'mix','mix','mix'\n",
    "    ]\n",
    "    # 实验色差梯度\n",
    "    statistics_personal_warm_cold['color_gradient'] = [\n",
    "        2,2,2,2,2,2,2,2,\n",
    "        # 5,3,1,5,3,1\n",
    "    ]\n",
    "    # 实验色差\n",
    "    statistics_personal_warm_cold['experience_chromatism'] = statistics_personal_warm_cold.color_gradient*[int(i[1])-int(i[-2]) for i in df_1.target[:8]]\n",
    "    # 实验正确选项\n",
    "    correct_options_list = []\n",
    "    for i in statistics_personal_warm_cold['experience_chromatism']:\n",
    "        if i<0:\n",
    "            correct_options_list.append('right')\n",
    "        else:\n",
    "            correct_options_list.append('left')\n",
    "    statistics_personal_warm_cold['correct_options'] = correct_options_list\n",
    "    # 实际选择：\n",
    "    statistics_personal_warm_cold['experience_options'] = df_1.experience[:8]\n",
    "    # 正确与否\n",
    "    experience_result_list=[]\n",
    "    for i in range(statistics_personal_warm_cold['correct_options'].shape[0]):\n",
    "        if statistics_personal_warm_cold['experience_options'][i]==statistics_personal_warm_cold['correct_options'][i]:\n",
    "            experience_result_list.append(1)\n",
    "        else:\n",
    "            experience_result_list.append(0)\n",
    "    statistics_personal_warm_cold['experience_result'] = experience_result_list\n",
    "\n",
    "    # rank\n",
    "    statistics_personal_rank = pd.DataFrame()\n",
    "    statistics_personal_rank['experience_id']=[i for i in range(9,15)]\n",
    "    # 实验类别\n",
    "    statistics_personal_rank['experience_content'] = [\n",
    "        # 'cold','cold','cold','cold',\n",
    "        # 'warm','warm','warm','warm',\n",
    "        'rank','rank','rank',\n",
    "        'mix','mix','mix'\n",
    "    ]\n",
    "    # 实验色差梯度\n",
    "    statistics_personal_rank['color_gradient'] = [\n",
    "        # 2,2,2,2,2,2,2,2,\n",
    "        5,3,1,5,3,1\n",
    "    ]\n",
    "    # 实验正确选项\n",
    "    correct_options_list = []\n",
    "    for i in df_1.target[8:]:\n",
    "        correct_options_list.append(i[1]+i[4]+i[7]+i[10]+i[13])\n",
    "    statistics_personal_rank['correct_options'] = correct_options_list\n",
    "    # 实际选择：\n",
    "    experience_options_list = []\n",
    "    for i in df_1.experience[8:]:\n",
    "        i = i.split(\"'\")\n",
    "        experience_options_list.append(i[1]+i[3]+i[5]+i[7]+i[9])\n",
    "    statistics_personal_rank['experience_options'] = experience_options_list\n",
    "    # 正确与否\n",
    "    experience_result_list=[]\n",
    "    for i in range(statistics_personal_rank['correct_options'].shape[0]):\n",
    "        if statistics_personal_rank['experience_options'][i]==statistics_personal_rank['correct_options'][i]:\n",
    "            experience_result_list.append(1)\n",
    "        else:\n",
    "            experience_result_list.append(0)\n",
    "    statistics_personal_rank['experience_result'] = experience_result_list\n",
    "    statistics_personal_rank \n",
    "\n",
    "    # personal statistics\n",
    "    statistics_personal_all = pd.DataFrame()\n",
    "    # 实验类别\n",
    "    statistics_personal_all['experience_content'] = [\n",
    "        'cold','warm','rank','mix'\n",
    "    ]\n",
    "    # 个人准确率\n",
    "    statistics_personal_all['correct_rate'] = [\n",
    "        statistics_personal_warm_cold.experience_result[:4].value_counts()[1]/4,\n",
    "        statistics_personal_warm_cold.experience_result[4:].value_counts()[1]/4,\n",
    "        statistics_personal_rank.experience_result[:3].value_counts()[1]/3,\n",
    "        statistics_personal_rank.experience_result[3:].value_counts()[1]/3\n",
    "        \n",
    "    ]\n",
    "    statistics_personal_all\n",
    "\n",
    "    return {\n",
    "        'warm&cold':statistics_personal_warm_cold,\n",
    "        'rank':statistics_personal_rank,\n",
    "        \"personal_statistics\":statistics_personal_all\n",
    "    }"
   ]
  },
  {
   "cell_type": "code",
   "execution_count": 13,
   "metadata": {},
   "outputs": [],
   "source": [
    "personal_data_dict = {}\n",
    "for i in range(1,21):\n",
    "    personal_path = str(i)+'.xls'\n",
    "    personal_data_dict[str(i)]=statistics_personal(personal_path)"
   ]
  },
  {
   "cell_type": "markdown",
   "metadata": {},
   "source": [
    "# 实验统计"
   ]
  },
  {
   "cell_type": "code",
   "execution_count": 14,
   "metadata": {},
   "outputs": [],
   "source": [
    "import pandas as pd\n",
    "import matplotlib.pyplot as plt\n",
    "%matplotlib inline\n",
    "import matplotlib.pyplot as plt\n",
    "import seaborn as sns\n"
   ]
  },
  {
   "cell_type": "markdown",
   "metadata": {},
   "source": [
    "## warm&cold"
   ]
  },
  {
   "cell_type": "code",
   "execution_count": 15,
   "metadata": {},
   "outputs": [
    {
     "data": {
      "text/html": [
       "<div>\n",
       "<style scoped>\n",
       "    .dataframe tbody tr th:only-of-type {\n",
       "        vertical-align: middle;\n",
       "    }\n",
       "\n",
       "    .dataframe tbody tr th {\n",
       "        vertical-align: top;\n",
       "    }\n",
       "\n",
       "    .dataframe thead th {\n",
       "        text-align: right;\n",
       "    }\n",
       "</style>\n",
       "<table border=\"1\" class=\"dataframe\">\n",
       "  <thead>\n",
       "    <tr style=\"text-align: right;\">\n",
       "      <th></th>\n",
       "      <th>experience_content</th>\n",
       "      <th>experience_chromatism</th>\n",
       "      <th>experience_result</th>\n",
       "    </tr>\n",
       "  </thead>\n",
       "  <tbody>\n",
       "    <tr>\n",
       "      <th>0</th>\n",
       "      <td>cold</td>\n",
       "      <td>-6</td>\n",
       "      <td>1</td>\n",
       "    </tr>\n",
       "    <tr>\n",
       "      <th>1</th>\n",
       "      <td>cold</td>\n",
       "      <td>4</td>\n",
       "      <td>1</td>\n",
       "    </tr>\n",
       "    <tr>\n",
       "      <th>2</th>\n",
       "      <td>cold</td>\n",
       "      <td>2</td>\n",
       "      <td>1</td>\n",
       "    </tr>\n",
       "    <tr>\n",
       "      <th>3</th>\n",
       "      <td>cold</td>\n",
       "      <td>-8</td>\n",
       "      <td>1</td>\n",
       "    </tr>\n",
       "    <tr>\n",
       "      <th>4</th>\n",
       "      <td>warm</td>\n",
       "      <td>-8</td>\n",
       "      <td>1</td>\n",
       "    </tr>\n",
       "    <tr>\n",
       "      <th>...</th>\n",
       "      <td>...</td>\n",
       "      <td>...</td>\n",
       "      <td>...</td>\n",
       "    </tr>\n",
       "    <tr>\n",
       "      <th>155</th>\n",
       "      <td>cold</td>\n",
       "      <td>-8</td>\n",
       "      <td>1</td>\n",
       "    </tr>\n",
       "    <tr>\n",
       "      <th>156</th>\n",
       "      <td>warm</td>\n",
       "      <td>-8</td>\n",
       "      <td>1</td>\n",
       "    </tr>\n",
       "    <tr>\n",
       "      <th>157</th>\n",
       "      <td>warm</td>\n",
       "      <td>-4</td>\n",
       "      <td>1</td>\n",
       "    </tr>\n",
       "    <tr>\n",
       "      <th>158</th>\n",
       "      <td>warm</td>\n",
       "      <td>6</td>\n",
       "      <td>1</td>\n",
       "    </tr>\n",
       "    <tr>\n",
       "      <th>159</th>\n",
       "      <td>warm</td>\n",
       "      <td>2</td>\n",
       "      <td>1</td>\n",
       "    </tr>\n",
       "  </tbody>\n",
       "</table>\n",
       "<p>160 rows × 3 columns</p>\n",
       "</div>"
      ],
      "text/plain": [
       "    experience_content  experience_chromatism  experience_result\n",
       "0                 cold                     -6                  1\n",
       "1                 cold                      4                  1\n",
       "2                 cold                      2                  1\n",
       "3                 cold                     -8                  1\n",
       "4                 warm                     -8                  1\n",
       "..                 ...                    ...                ...\n",
       "155               cold                     -8                  1\n",
       "156               warm                     -8                  1\n",
       "157               warm                     -4                  1\n",
       "158               warm                      6                  1\n",
       "159               warm                      2                  1\n",
       "\n",
       "[160 rows x 3 columns]"
      ]
     },
     "execution_count": 15,
     "metadata": {},
     "output_type": "execute_result"
    }
   ],
   "source": [
    "statistics_warm_cold = personal_data_dict[str(1)]['warm&cold'][['experience_content','experience_chromatism','experience_result']]\n",
    "\n",
    "for i in range(2,21):\n",
    "    statistics_warm_cold = pd.concat([\n",
    "        statistics_warm_cold,\n",
    "        personal_data_dict[str(i)]['warm&cold'][['experience_content','experience_chromatism','experience_result']]\n",
    "    ])\n",
    "statistics_warm_cold = statistics_warm_cold.reset_index(drop=True)\n",
    "statistics_warm_cold"
   ]
  },
  {
   "cell_type": "code",
   "execution_count": 47,
   "metadata": {},
   "outputs": [
    {
     "data": {
      "text/html": [
       "<div>\n",
       "<style scoped>\n",
       "    .dataframe tbody tr th:only-of-type {\n",
       "        vertical-align: middle;\n",
       "    }\n",
       "\n",
       "    .dataframe tbody tr th {\n",
       "        vertical-align: top;\n",
       "    }\n",
       "\n",
       "    .dataframe thead th {\n",
       "        text-align: right;\n",
       "    }\n",
       "</style>\n",
       "<table border=\"1\" class=\"dataframe\">\n",
       "  <thead>\n",
       "    <tr style=\"text-align: right;\">\n",
       "      <th></th>\n",
       "      <th>experience_content</th>\n",
       "      <th>experience_chromatism</th>\n",
       "      <th>experience_result</th>\n",
       "    </tr>\n",
       "  </thead>\n",
       "  <tbody>\n",
       "    <tr>\n",
       "      <th>0</th>\n",
       "      <td>cold</td>\n",
       "      <td>-6</td>\n",
       "      <td>1</td>\n",
       "    </tr>\n",
       "    <tr>\n",
       "      <th>1</th>\n",
       "      <td>cold</td>\n",
       "      <td>4</td>\n",
       "      <td>1</td>\n",
       "    </tr>\n",
       "    <tr>\n",
       "      <th>2</th>\n",
       "      <td>cold</td>\n",
       "      <td>2</td>\n",
       "      <td>0</td>\n",
       "    </tr>\n",
       "    <tr>\n",
       "      <th>3</th>\n",
       "      <td>cold</td>\n",
       "      <td>-8</td>\n",
       "      <td>1</td>\n",
       "    </tr>\n",
       "    <tr>\n",
       "      <th>4</th>\n",
       "      <td>warm</td>\n",
       "      <td>-8</td>\n",
       "      <td>1</td>\n",
       "    </tr>\n",
       "    <tr>\n",
       "      <th>...</th>\n",
       "      <td>...</td>\n",
       "      <td>...</td>\n",
       "      <td>...</td>\n",
       "    </tr>\n",
       "    <tr>\n",
       "      <th>155</th>\n",
       "      <td>cold</td>\n",
       "      <td>-8</td>\n",
       "      <td>1</td>\n",
       "    </tr>\n",
       "    <tr>\n",
       "      <th>156</th>\n",
       "      <td>warm</td>\n",
       "      <td>-8</td>\n",
       "      <td>1</td>\n",
       "    </tr>\n",
       "    <tr>\n",
       "      <th>157</th>\n",
       "      <td>warm</td>\n",
       "      <td>-4</td>\n",
       "      <td>0</td>\n",
       "    </tr>\n",
       "    <tr>\n",
       "      <th>158</th>\n",
       "      <td>warm</td>\n",
       "      <td>6</td>\n",
       "      <td>1</td>\n",
       "    </tr>\n",
       "    <tr>\n",
       "      <th>159</th>\n",
       "      <td>warm</td>\n",
       "      <td>2</td>\n",
       "      <td>0</td>\n",
       "    </tr>\n",
       "  </tbody>\n",
       "</table>\n",
       "<p>160 rows × 3 columns</p>\n",
       "</div>"
      ],
      "text/plain": [
       "    experience_content  experience_chromatism  experience_result\n",
       "0                 cold                     -6                  1\n",
       "1                 cold                      4                  1\n",
       "2                 cold                      2                  0\n",
       "3                 cold                     -8                  1\n",
       "4                 warm                     -8                  1\n",
       "..                 ...                    ...                ...\n",
       "155               cold                     -8                  1\n",
       "156               warm                     -8                  1\n",
       "157               warm                     -4                  0\n",
       "158               warm                      6                  1\n",
       "159               warm                      2                  0\n",
       "\n",
       "[160 rows x 3 columns]"
      ]
     },
     "execution_count": 47,
     "metadata": {},
     "output_type": "execute_result"
    }
   ],
   "source": [
    "statistics_warm_cold = pd.read_excel('warm&cold.xlsx',index_col = None)\n",
    "statistics_warm_cold = statistics_warm_cold.iloc[:,1:]\n",
    "statistics_warm_cold"
   ]
  },
  {
   "cell_type": "code",
   "execution_count": 48,
   "metadata": {},
   "outputs": [],
   "source": [
    "# plt.subplot(x=statistics_warm_cold['experience_chromatism'],y=statistics_warm_cold['experience_result'])"
   ]
  },
  {
   "cell_type": "code",
   "execution_count": 74,
   "metadata": {},
   "outputs": [
    {
     "data": {
      "text/plain": [
       "<seaborn.axisgrid.FacetGrid at 0x1b5c97a4d30>"
      ]
     },
     "execution_count": 74,
     "metadata": {},
     "output_type": "execute_result"
    },
    {
     "data": {
      "image/png": "[encoded data removed]",
      "text/plain": [
       "<Figure size 2266.5x360 with 6 Axes>"
      ]
     },
     "metadata": {
      "needs_background": "light"
     },
     "output_type": "display_data"
    }
   ],
   "source": [
    "# plt.yticks([0,0.5,1])\n",
    "sns.displot(\n",
    "    # data=statistics_warm_cold[\n",
    "    #     (statistics_warm_cold['experience_chromatism']==2)\n",
    "    #     # (statistics_warm_cold['experience_chromatism']==2)\n",
    "    # ], \n",
    "    statistics_warm_cold,\n",
    "    x='experience_result', \n",
    "    hue='experience_content',\n",
    "    col='experience_chromatism',\n",
    "    # kde=True,\n",
    "    multiple=\"dodge\"\n",
    "    )\n",
    "# plt.figure(figsize=(2,2))\n",
    "# plt.title(\"experience_chromatism for warm&cold test\")\n",
    "\n",
    "# sns.displot(data=statistics_warm_cold, x='experience_result', y='experience_chromatism')\n"
   ]
  },
  {
   "cell_type": "code",
   "execution_count": 75,
   "metadata": {},
   "outputs": [
    {
     "data": {
      "text/plain": [
       "<seaborn.axisgrid.FacetGrid at 0x1b5c843dd00>"
      ]
     },
     "execution_count": 75,
     "metadata": {},
     "output_type": "execute_result"
    },
    {
     "data": {
      "image/png": "[encoded data removed]",
      "text/plain": [
       "<Figure size 466.5x360 with 1 Axes>"
      ]
     },
     "metadata": {
      "needs_background": "light"
     },
     "output_type": "display_data"
    }
   ],
   "source": [
    "sns.displot(\n",
    "    data=statistics_warm_cold, \n",
    "    x='experience_result', \n",
    "    hue='experience_content',\n",
    "    kde=True,\n",
    "    multiple=\"fill\"\n",
    "    )"
   ]
  },
  {
   "cell_type": "code",
   "execution_count": 61,
   "metadata": {},
   "outputs": [
    {
     "data": {
      "text/plain": [
       "<seaborn.axisgrid.FacetGrid at 0x1b5c5641490>"
      ]
     },
     "execution_count": 61,
     "metadata": {},
     "output_type": "execute_result"
    },
    {
     "data": {
      "image/png": "[encoded data removed]",
      "text/plain": [
       "<Figure size 466.5x360 with 1 Axes>"
      ]
     },
     "metadata": {
      "needs_background": "light"
     },
     "output_type": "display_data"
    }
   ],
   "source": [
    "sns.displot(\n",
    "    data=statistics_warm_cold, \n",
    "    x='experience_chromatism', \n",
    "    hue='experience_content',\n",
    "    # kde=True,\n",
    "    multiple=\"stack\"\n",
    "    )"
   ]
  },
  {
   "cell_type": "markdown",
   "metadata": {},
   "source": [
    "确定实验结果非全整正"
   ]
  },
  {
   "cell_type": "code",
   "execution_count": 34,
   "metadata": {},
   "outputs": [
    {
     "data": {
      "text/plain": [
       "False"
      ]
     },
     "execution_count": 34,
     "metadata": {},
     "output_type": "execute_result"
    }
   ],
   "source": [
    "statistics_warm_cold[statistics_warm_cold[\"experience_result\"]==1].shape[0]==statistics_warm_cold.shape[0]"
   ]
  },
  {
   "cell_type": "markdown",
   "metadata": {},
   "source": [
    "## rank"
   ]
  },
  {
   "cell_type": "code",
   "execution_count": 76,
   "metadata": {},
   "outputs": [],
   "source": [
    "statistics_rank = personal_data_dict[str(1)]['rank'][['experience_content','color_gradient','experience_result']]\n",
    "\n",
    "for i in range(2,21):\n",
    "    statistics_rank = pd.concat([\n",
    "        statistics_rank,\n",
    "        personal_data_dict[str(i)]['rank'][['experience_content','color_gradient','experience_result']]\n",
    "    ])\n",
    "statistics_rank = statistics_rank.reset_index(drop=True)\n",
    "statistics_rank.to_excel('rank.xlsx')"
   ]
  },
  {
   "cell_type": "code",
   "execution_count": 77,
   "metadata": {},
   "outputs": [
    {
     "data": {
      "text/html": [
       "<div>\n",
       "<style scoped>\n",
       "    .dataframe tbody tr th:only-of-type {\n",
       "        vertical-align: middle;\n",
       "    }\n",
       "\n",
       "    .dataframe tbody tr th {\n",
       "        vertical-align: top;\n",
       "    }\n",
       "\n",
       "    .dataframe thead th {\n",
       "        text-align: right;\n",
       "    }\n",
       "</style>\n",
       "<table border=\"1\" class=\"dataframe\">\n",
       "  <thead>\n",
       "    <tr style=\"text-align: right;\">\n",
       "      <th></th>\n",
       "      <th>experience_content</th>\n",
       "      <th>color_gradient</th>\n",
       "      <th>experience_result</th>\n",
       "    </tr>\n",
       "  </thead>\n",
       "  <tbody>\n",
       "    <tr>\n",
       "      <th>0</th>\n",
       "      <td>rank</td>\n",
       "      <td>5</td>\n",
       "      <td>1</td>\n",
       "    </tr>\n",
       "    <tr>\n",
       "      <th>1</th>\n",
       "      <td>rank</td>\n",
       "      <td>3</td>\n",
       "      <td>1</td>\n",
       "    </tr>\n",
       "    <tr>\n",
       "      <th>2</th>\n",
       "      <td>rank</td>\n",
       "      <td>1</td>\n",
       "      <td>0</td>\n",
       "    </tr>\n",
       "    <tr>\n",
       "      <th>3</th>\n",
       "      <td>mix</td>\n",
       "      <td>5</td>\n",
       "      <td>1</td>\n",
       "    </tr>\n",
       "    <tr>\n",
       "      <th>4</th>\n",
       "      <td>mix</td>\n",
       "      <td>3</td>\n",
       "      <td>0</td>\n",
       "    </tr>\n",
       "    <tr>\n",
       "      <th>...</th>\n",
       "      <td>...</td>\n",
       "      <td>...</td>\n",
       "      <td>...</td>\n",
       "    </tr>\n",
       "    <tr>\n",
       "      <th>115</th>\n",
       "      <td>rank</td>\n",
       "      <td>3</td>\n",
       "      <td>1</td>\n",
       "    </tr>\n",
       "    <tr>\n",
       "      <th>116</th>\n",
       "      <td>rank</td>\n",
       "      <td>1</td>\n",
       "      <td>0</td>\n",
       "    </tr>\n",
       "    <tr>\n",
       "      <th>117</th>\n",
       "      <td>mix</td>\n",
       "      <td>5</td>\n",
       "      <td>1</td>\n",
       "    </tr>\n",
       "    <tr>\n",
       "      <th>118</th>\n",
       "      <td>mix</td>\n",
       "      <td>3</td>\n",
       "      <td>0</td>\n",
       "    </tr>\n",
       "    <tr>\n",
       "      <th>119</th>\n",
       "      <td>mix</td>\n",
       "      <td>1</td>\n",
       "      <td>0</td>\n",
       "    </tr>\n",
       "  </tbody>\n",
       "</table>\n",
       "<p>120 rows × 3 columns</p>\n",
       "</div>"
      ],
      "text/plain": [
       "    experience_content  color_gradient  experience_result\n",
       "0                 rank               5                  1\n",
       "1                 rank               3                  1\n",
       "2                 rank               1                  0\n",
       "3                  mix               5                  1\n",
       "4                  mix               3                  0\n",
       "..                 ...             ...                ...\n",
       "115               rank               3                  1\n",
       "116               rank               1                  0\n",
       "117                mix               5                  1\n",
       "118                mix               3                  0\n",
       "119                mix               1                  0\n",
       "\n",
       "[120 rows x 3 columns]"
      ]
     },
     "execution_count": 77,
     "metadata": {},
     "output_type": "execute_result"
    }
   ],
   "source": [
    "statistics_rank = pd.read_excel('rank.xlsx')\n",
    "statistics_rank = statistics_rank.iloc[:,1:]\n",
    "statistics_rank"
   ]
  },
  {
   "cell_type": "code",
   "execution_count": 90,
   "metadata": {},
   "outputs": [],
   "source": [
    "error = statistics_rank[statistics_rank['experience_result']==0]"
   ]
  },
  {
   "cell_type": "code",
   "execution_count": 96,
   "metadata": {},
   "outputs": [
    {
     "data": {
      "text/html": [
       "<div>\n",
       "<style scoped>\n",
       "    .dataframe tbody tr th:only-of-type {\n",
       "        vertical-align: middle;\n",
       "    }\n",
       "\n",
       "    .dataframe tbody tr th {\n",
       "        vertical-align: top;\n",
       "    }\n",
       "\n",
       "    .dataframe thead th {\n",
       "        text-align: right;\n",
       "    }\n",
       "</style>\n",
       "<table border=\"1\" class=\"dataframe\">\n",
       "  <thead>\n",
       "    <tr style=\"text-align: right;\">\n",
       "      <th></th>\n",
       "      <th>experience_content</th>\n",
       "      <th>color_gradient</th>\n",
       "      <th>experience_result</th>\n",
       "      <th>error</th>\n",
       "    </tr>\n",
       "  </thead>\n",
       "  <tbody>\n",
       "    <tr>\n",
       "      <th>2</th>\n",
       "      <td>rank</td>\n",
       "      <td>1</td>\n",
       "      <td>0</td>\n",
       "      <td>5</td>\n",
       "    </tr>\n",
       "    <tr>\n",
       "      <th>4</th>\n",
       "      <td>mix</td>\n",
       "      <td>3</td>\n",
       "      <td>0</td>\n",
       "      <td>3</td>\n",
       "    </tr>\n",
       "    <tr>\n",
       "      <th>5</th>\n",
       "      <td>mix</td>\n",
       "      <td>1</td>\n",
       "      <td>0</td>\n",
       "      <td>5</td>\n",
       "    </tr>\n",
       "    <tr>\n",
       "      <th>8</th>\n",
       "      <td>rank</td>\n",
       "      <td>1</td>\n",
       "      <td>0</td>\n",
       "      <td>3</td>\n",
       "    </tr>\n",
       "    <tr>\n",
       "      <th>10</th>\n",
       "      <td>mix</td>\n",
       "      <td>3</td>\n",
       "      <td>0</td>\n",
       "      <td>2</td>\n",
       "    </tr>\n",
       "    <tr>\n",
       "      <th>...</th>\n",
       "      <td>...</td>\n",
       "      <td>...</td>\n",
       "      <td>...</td>\n",
       "      <td>...</td>\n",
       "    </tr>\n",
       "    <tr>\n",
       "      <th>112</th>\n",
       "      <td>mix</td>\n",
       "      <td>3</td>\n",
       "      <td>0</td>\n",
       "      <td>5</td>\n",
       "    </tr>\n",
       "    <tr>\n",
       "      <th>113</th>\n",
       "      <td>mix</td>\n",
       "      <td>1</td>\n",
       "      <td>0</td>\n",
       "      <td>1</td>\n",
       "    </tr>\n",
       "    <tr>\n",
       "      <th>116</th>\n",
       "      <td>rank</td>\n",
       "      <td>1</td>\n",
       "      <td>0</td>\n",
       "      <td>1</td>\n",
       "    </tr>\n",
       "    <tr>\n",
       "      <th>118</th>\n",
       "      <td>mix</td>\n",
       "      <td>3</td>\n",
       "      <td>0</td>\n",
       "      <td>1</td>\n",
       "    </tr>\n",
       "    <tr>\n",
       "      <th>119</th>\n",
       "      <td>mix</td>\n",
       "      <td>1</td>\n",
       "      <td>0</td>\n",
       "      <td>5</td>\n",
       "    </tr>\n",
       "  </tbody>\n",
       "</table>\n",
       "<p>72 rows × 4 columns</p>\n",
       "</div>"
      ],
      "text/plain": [
       "    experience_content  color_gradient  experience_result  error\n",
       "2                 rank               1                  0      5\n",
       "4                  mix               3                  0      3\n",
       "5                  mix               1                  0      5\n",
       "8                 rank               1                  0      3\n",
       "10                 mix               3                  0      2\n",
       "..                 ...             ...                ...    ...\n",
       "112                mix               3                  0      5\n",
       "113                mix               1                  0      1\n",
       "116               rank               1                  0      1\n",
       "118                mix               3                  0      1\n",
       "119                mix               1                  0      5\n",
       "\n",
       "[72 rows x 4 columns]"
      ]
     },
     "execution_count": 96,
     "metadata": {},
     "output_type": "execute_result"
    }
   ],
   "source": [
    "error"
   ]
  },
  {
   "cell_type": "code",
   "execution_count": 100,
   "metadata": {},
   "outputs": [
    {
     "name": "stderr",
     "output_type": "stream",
     "text": [
      "d:\\Anaconda3\\lib\\site-packages\\seaborn\\distributions.py:305: UserWarning: Dataset has 0 variance; skipping density estimate.\n",
      "  warnings.warn(msg, UserWarning)\n"
     ]
    },
    {
     "data": {
      "text/plain": [
       "<seaborn.axisgrid.FacetGrid at 0x1b5ce570cd0>"
      ]
     },
     "execution_count": 100,
     "metadata": {},
     "output_type": "execute_result"
    },
    {
     "data": {
      "image/png": "[encoded data removed]",
      "text/plain": [
       "<Figure size 1186.5x360 with 3 Axes>"
      ]
     },
     "metadata": {
      "needs_background": "light"
     },
     "output_type": "display_data"
    }
   ],
   "source": [
    "sns.displot(data=error, x='error', hue='experience_content',col='color_gradient',kde=True,multiple=\"dodge\")\n"
   ]
  },
  {
   "cell_type": "code",
   "execution_count": 79,
   "metadata": {},
   "outputs": [
    {
     "data": {
      "text/plain": [
       "<seaborn.axisgrid.FacetGrid at 0x1b5c9e67130>"
      ]
     },
     "execution_count": 79,
     "metadata": {},
     "output_type": "execute_result"
    },
    {
     "data": {
      "image/png": "[encoded data removed]",
      "text/plain": [
       "<Figure size 466.5x360 with 1 Axes>"
      ]
     },
     "metadata": {
      "needs_background": "light"
     },
     "output_type": "display_data"
    }
   ],
   "source": [
    "sns.displot(data=statistics_rank, x='experience_result', hue='color_gradient',multiple=\"dodge\")\n",
    "# sns.displot(data=statistics_rank, x=\"flipper_length_mm\", hue=\"species\",col=\"species\")\n",
    "# plt.figure(figsize=(2,5))\n"
   ]
  },
  {
   "cell_type": "code",
   "execution_count": 82,
   "metadata": {},
   "outputs": [
    {
     "name": "stderr",
     "output_type": "stream",
     "text": [
      "d:\\Anaconda3\\lib\\site-packages\\seaborn\\distributions.py:305: UserWarning: Dataset has 0 variance; skipping density estimate.\n",
      "  warnings.warn(msg, UserWarning)\n"
     ]
    },
    {
     "data": {
      "text/plain": [
       "<seaborn.axisgrid.FacetGrid at 0x1b5c9fa6c40>"
      ]
     },
     "execution_count": 82,
     "metadata": {},
     "output_type": "execute_result"
    },
    {
     "data": {
      "image/png": "[encoded data removed]",
      "text/plain": [
       "<Figure size 439.75x360 with 1 Axes>"
      ]
     },
     "metadata": {
      "needs_background": "light"
     },
     "output_type": "display_data"
    }
   ],
   "source": [
    "sns.displot(data=statistics_rank, x='experience_result', hue='color_gradient',kde=True,multiple=\"dodge\")\n",
    "\n"
   ]
  },
  {
   "cell_type": "code",
   "execution_count": 83,
   "metadata": {},
   "outputs": [],
   "source": [
    "mix = statistics_rank[statistics_rank['experience_content']=='mix']\n",
    "rank = statistics_rank[statistics_rank['experience_content']=='rank']\n"
   ]
  },
  {
   "cell_type": "code",
   "execution_count": 84,
   "metadata": {},
   "outputs": [
    {
     "data": {
      "text/plain": [
       "Text(0.5, 1.0, 'rank_result_dis')"
      ]
     },
     "execution_count": 84,
     "metadata": {},
     "output_type": "execute_result"
    },
    {
     "data": {
      "image/png": "[encoded data removed]",
      "text/plain": [
       "<Figure size 439.75x360 with 1 Axes>"
      ]
     },
     "metadata": {
      "needs_background": "light"
     },
     "output_type": "display_data"
    }
   ],
   "source": [
    "sns.displot(data=rank, x='experience_result', hue='color_gradient',multiple=\"dodge\")\n",
    "plt.title('rank_result_dis')\n",
    "\n"
   ]
  },
  {
   "cell_type": "code",
   "execution_count": 85,
   "metadata": {},
   "outputs": [
    {
     "data": {
      "text/plain": [
       "Text(0.5, 1.0, 'mix_result_dis')"
      ]
     },
     "execution_count": 85,
     "metadata": {},
     "output_type": "execute_result"
    },
    {
     "data": {
      "image/png": "[encoded data removed]",
      "text/plain": [
       "<Figure size 439.75x360 with 1 Axes>"
      ]
     },
     "metadata": {
      "needs_background": "light"
     },
     "output_type": "display_data"
    }
   ],
   "source": [
    "sns.displot(data=mix, x='experience_result', hue='color_gradient',multiple=\"dodge\")\n",
    "plt.title('mix_result_dis')"
   ]
  },
  {
   "cell_type": "code",
   "execution_count": null,
   "metadata": {},
   "outputs": [],
   "source": []
  }
 ],
 "metadata": {
  "kernelspec": {
   "display_name": "Python 3.8.5 ('base')",
   "language": "python",
   "name": "python3"
  },
  "language_info": {
   "codemirror_mode": {
    "name": "ipython",
    "version": 3
   },
   "file_extension": ".py",
   "mimetype": "text/x-python",
   "name": "python",
   "nbconvert_exporter": "python",
   "pygments_lexer": "ipython3",
   "version": "3.8.5"
  },
  "orig_nbformat": 4,
  "vscode": {
   "interpreter": {
    "hash": "b09ec625f77bf4fd762565a912b97636504ad6ec901eb2d0f4cf5a7de23e1ee5"
   }
  }
 },
 "nbformat": 4,
 "nbformat_minor": 2
}
